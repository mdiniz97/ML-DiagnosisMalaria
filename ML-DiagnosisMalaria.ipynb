{
 "cells": [
  {
   "cell_type": "code",
   "execution_count": 168,
   "metadata": {},
   "outputs": [
    {
     "name": "stdout",
     "output_type": "stream",
     "text": [
      "['.DS_Store', 'Parasitized', 'Uninfected']\n"
     ]
    }
   ],
   "source": [
    "import numpy as np\n",
    "import pandas as pd\n",
    "import matplotlib.pyplot as plt\n",
    "import cv2\n",
    "import glob\n",
    "import os\n",
    "\n",
    "from skimage.feature import greycoprops as gprops\n",
    "from skimage.feature import greycomatrix as gmatrix\n",
    "\n",
    "from sklearn.utils import shuffle\n",
    "from sklearn.model_selection import train_test_split\n",
    "from sklearn.preprocessing import StandardScaler\n",
    "from sklearn.metrics import classification_report, confusion_matrix  \n",
    "\n",
    "print(os.listdir(\"./dataset/cell_images/\"))"
   ]
  },
  {
   "cell_type": "code",
   "execution_count": 53,
   "metadata": {},
   "outputs": [],
   "source": [
    "path = os.getcwd() + '/dataset/cell_images/'\n",
    "path_images = os.listdir(\"./dataset/cell_images/\")\n",
    "if '.DS_Store' in path_images:\n",
    "    path_images = path_images[1:]\n",
    "path_parasitized = path + path_images[0] + '/'\n",
    "path_uninfected = path + path_images[1] + '/'"
   ]
  },
  {
   "cell_type": "code",
   "execution_count": 121,
   "metadata": {},
   "outputs": [],
   "source": [
    "imagesParasitized = [cv2.imread(file, 0) for file in glob.glob(path_parasitized+\"*.png\")]"
   ]
  },
  {
   "cell_type": "code",
   "execution_count": 122,
   "metadata": {},
   "outputs": [],
   "source": [
    "imagesUninfected  = [cv2.imread(file, 0) for file in glob.glob(path_uninfected+\"*.png\")]"
   ]
  },
  {
   "cell_type": "code",
   "execution_count": 142,
   "metadata": {},
   "outputs": [],
   "source": [
    "dataParasitized = {'contrast' : [], 'dissimilarity' : [], 'homogeneity': [], \\\n",
    "                   'energy' : [], 'correlation' : [], 'ASM' : [], 'status': []}\n",
    "for parasitized in imagesParasitized:\n",
    "    # print(k)\n",
    "    # dataImage = {}\n",
    "    glcm = gmatrix(parasitized, [5], [0], 256, symmetric=True, normed=True)\n",
    "    for feature in ['contrast', 'dissimilarity', 'homogeneity', 'energy', 'correlation', 'ASM', 'status']:\n",
    "        if feature == 'status':\n",
    "            dataParasitized[feature].append(1)\n",
    "        else:\n",
    "            dataParasitized[feature].append(gprops(glcm, prop=feature)[0][0])\n",
    "        # o [0][0] para pegar sómente o dado fora da lista, tá retornando array([[2311.26818367]])\n",
    "    # dataParasitized.append(dataImage)"
   ]
  },
  {
   "cell_type": "code",
   "execution_count": 143,
   "metadata": {},
   "outputs": [],
   "source": [
    "#dataUninfected = []\n",
    "dataUninfected = {'contrast' : [], 'dissimilarity' : [], 'homogeneity': [], \\\n",
    "                   'energy' : [], 'correlation' : [], 'ASM' : [], 'status' : []}\n",
    "for uninfected in imagesUninfected:\n",
    "    # dataImage = {}\n",
    "    glcm = gmatrix(parasitized, [5], [0], 256, symmetric=True, normed=True)\n",
    "    for feature in ['contrast', 'dissimilarity', 'homogeneity', 'energy', 'correlation', 'ASM', 'status']:\n",
    "        #dataImage[feature] = gprops(glcm, prop=feature)\n",
    "        if feature == 'status':\n",
    "            dataUninfected[feature].append(0)\n",
    "        else:\n",
    "            dataUninfected[feature].append(gprops(glcm, prop=feature)[0][0])\n",
    "    # dataUninfected.append(dataImage)"
   ]
  },
  {
   "cell_type": "code",
   "execution_count": 144,
   "metadata": {},
   "outputs": [
    {
     "data": {
      "text/html": [
       "<div>\n",
       "<style scoped>\n",
       "    .dataframe tbody tr th:only-of-type {\n",
       "        vertical-align: middle;\n",
       "    }\n",
       "\n",
       "    .dataframe tbody tr th {\n",
       "        vertical-align: top;\n",
       "    }\n",
       "\n",
       "    .dataframe thead th {\n",
       "        text-align: right;\n",
       "    }\n",
       "</style>\n",
       "<table border=\"1\" class=\"dataframe\">\n",
       "  <thead>\n",
       "    <tr style=\"text-align: right;\">\n",
       "      <th></th>\n",
       "      <th>contrast</th>\n",
       "      <th>dissimilarity</th>\n",
       "      <th>homogeneity</th>\n",
       "      <th>energy</th>\n",
       "      <th>correlation</th>\n",
       "      <th>ASM</th>\n",
       "      <th>status</th>\n",
       "    </tr>\n",
       "  </thead>\n",
       "  <tbody>\n",
       "    <tr>\n",
       "      <th>0</th>\n",
       "      <td>2311.268184</td>\n",
       "      <td>17.324746</td>\n",
       "      <td>0.399396</td>\n",
       "      <td>0.205280</td>\n",
       "      <td>0.734250</td>\n",
       "      <td>0.042140</td>\n",
       "      <td>1</td>\n",
       "    </tr>\n",
       "    <tr>\n",
       "      <th>1</th>\n",
       "      <td>2096.609522</td>\n",
       "      <td>15.652454</td>\n",
       "      <td>0.381823</td>\n",
       "      <td>0.216699</td>\n",
       "      <td>0.766454</td>\n",
       "      <td>0.046959</td>\n",
       "      <td>1</td>\n",
       "    </tr>\n",
       "    <tr>\n",
       "      <th>2</th>\n",
       "      <td>2668.714404</td>\n",
       "      <td>17.056937</td>\n",
       "      <td>0.568375</td>\n",
       "      <td>0.413402</td>\n",
       "      <td>0.815043</td>\n",
       "      <td>0.170901</td>\n",
       "      <td>1</td>\n",
       "    </tr>\n",
       "    <tr>\n",
       "      <th>3</th>\n",
       "      <td>2018.325148</td>\n",
       "      <td>15.040112</td>\n",
       "      <td>0.419798</td>\n",
       "      <td>0.261523</td>\n",
       "      <td>0.805033</td>\n",
       "      <td>0.068394</td>\n",
       "      <td>1</td>\n",
       "    </tr>\n",
       "    <tr>\n",
       "      <th>4</th>\n",
       "      <td>2194.942252</td>\n",
       "      <td>17.002131</td>\n",
       "      <td>0.350344</td>\n",
       "      <td>0.180188</td>\n",
       "      <td>0.700745</td>\n",
       "      <td>0.032468</td>\n",
       "      <td>1</td>\n",
       "    </tr>\n",
       "  </tbody>\n",
       "</table>\n",
       "</div>"
      ],
      "text/plain": [
       "      contrast  dissimilarity  homogeneity    energy  correlation       ASM  \\\n",
       "0  2311.268184      17.324746     0.399396  0.205280     0.734250  0.042140   \n",
       "1  2096.609522      15.652454     0.381823  0.216699     0.766454  0.046959   \n",
       "2  2668.714404      17.056937     0.568375  0.413402     0.815043  0.170901   \n",
       "3  2018.325148      15.040112     0.419798  0.261523     0.805033  0.068394   \n",
       "4  2194.942252      17.002131     0.350344  0.180188     0.700745  0.032468   \n",
       "\n",
       "   status  \n",
       "0       1  \n",
       "1       1  \n",
       "2       1  \n",
       "3       1  \n",
       "4       1  "
      ]
     },
     "execution_count": 144,
     "metadata": {},
     "output_type": "execute_result"
    }
   ],
   "source": [
    "dfParasitized = pd.DataFrame(dataParasitized)\n",
    "dfParasitized.head()"
   ]
  },
  {
   "cell_type": "code",
   "execution_count": 147,
   "metadata": {},
   "outputs": [
    {
     "data": {
      "text/html": [
       "<div>\n",
       "<style scoped>\n",
       "    .dataframe tbody tr th:only-of-type {\n",
       "        vertical-align: middle;\n",
       "    }\n",
       "\n",
       "    .dataframe tbody tr th {\n",
       "        vertical-align: top;\n",
       "    }\n",
       "\n",
       "    .dataframe thead th {\n",
       "        text-align: right;\n",
       "    }\n",
       "</style>\n",
       "<table border=\"1\" class=\"dataframe\">\n",
       "  <thead>\n",
       "    <tr style=\"text-align: right;\">\n",
       "      <th></th>\n",
       "      <th>contrast</th>\n",
       "      <th>dissimilarity</th>\n",
       "      <th>homogeneity</th>\n",
       "      <th>energy</th>\n",
       "      <th>correlation</th>\n",
       "      <th>ASM</th>\n",
       "      <th>status</th>\n",
       "    </tr>\n",
       "  </thead>\n",
       "  <tbody>\n",
       "    <tr>\n",
       "      <th>0</th>\n",
       "      <td>2348.901139</td>\n",
       "      <td>15.30212</td>\n",
       "      <td>0.45979</td>\n",
       "      <td>0.208844</td>\n",
       "      <td>0.765417</td>\n",
       "      <td>0.043616</td>\n",
       "      <td>0</td>\n",
       "    </tr>\n",
       "    <tr>\n",
       "      <th>1</th>\n",
       "      <td>2348.901139</td>\n",
       "      <td>15.30212</td>\n",
       "      <td>0.45979</td>\n",
       "      <td>0.208844</td>\n",
       "      <td>0.765417</td>\n",
       "      <td>0.043616</td>\n",
       "      <td>0</td>\n",
       "    </tr>\n",
       "    <tr>\n",
       "      <th>2</th>\n",
       "      <td>2348.901139</td>\n",
       "      <td>15.30212</td>\n",
       "      <td>0.45979</td>\n",
       "      <td>0.208844</td>\n",
       "      <td>0.765417</td>\n",
       "      <td>0.043616</td>\n",
       "      <td>0</td>\n",
       "    </tr>\n",
       "    <tr>\n",
       "      <th>3</th>\n",
       "      <td>2348.901139</td>\n",
       "      <td>15.30212</td>\n",
       "      <td>0.45979</td>\n",
       "      <td>0.208844</td>\n",
       "      <td>0.765417</td>\n",
       "      <td>0.043616</td>\n",
       "      <td>0</td>\n",
       "    </tr>\n",
       "    <tr>\n",
       "      <th>4</th>\n",
       "      <td>2348.901139</td>\n",
       "      <td>15.30212</td>\n",
       "      <td>0.45979</td>\n",
       "      <td>0.208844</td>\n",
       "      <td>0.765417</td>\n",
       "      <td>0.043616</td>\n",
       "      <td>0</td>\n",
       "    </tr>\n",
       "  </tbody>\n",
       "</table>\n",
       "</div>"
      ],
      "text/plain": [
       "      contrast  dissimilarity  homogeneity    energy  correlation       ASM  \\\n",
       "0  2348.901139       15.30212      0.45979  0.208844     0.765417  0.043616   \n",
       "1  2348.901139       15.30212      0.45979  0.208844     0.765417  0.043616   \n",
       "2  2348.901139       15.30212      0.45979  0.208844     0.765417  0.043616   \n",
       "3  2348.901139       15.30212      0.45979  0.208844     0.765417  0.043616   \n",
       "4  2348.901139       15.30212      0.45979  0.208844     0.765417  0.043616   \n",
       "\n",
       "   status  \n",
       "0       0  \n",
       "1       0  \n",
       "2       0  \n",
       "3       0  \n",
       "4       0  "
      ]
     },
     "execution_count": 147,
     "metadata": {},
     "output_type": "execute_result"
    }
   ],
   "source": [
    "dfUnifected = pd.DataFrame(dataUninfected)\n",
    "dfUnifected.head()"
   ]
  },
  {
   "cell_type": "code",
   "execution_count": 155,
   "metadata": {},
   "outputs": [
    {
     "data": {
      "text/html": [
       "<div>\n",
       "<style scoped>\n",
       "    .dataframe tbody tr th:only-of-type {\n",
       "        vertical-align: middle;\n",
       "    }\n",
       "\n",
       "    .dataframe tbody tr th {\n",
       "        vertical-align: top;\n",
       "    }\n",
       "\n",
       "    .dataframe thead th {\n",
       "        text-align: right;\n",
       "    }\n",
       "</style>\n",
       "<table border=\"1\" class=\"dataframe\">\n",
       "  <thead>\n",
       "    <tr style=\"text-align: right;\">\n",
       "      <th></th>\n",
       "      <th>contrast</th>\n",
       "      <th>dissimilarity</th>\n",
       "      <th>homogeneity</th>\n",
       "      <th>energy</th>\n",
       "      <th>correlation</th>\n",
       "      <th>ASM</th>\n",
       "      <th>status</th>\n",
       "    </tr>\n",
       "  </thead>\n",
       "  <tbody>\n",
       "    <tr>\n",
       "      <th>10219</th>\n",
       "      <td>2348.901139</td>\n",
       "      <td>15.302120</td>\n",
       "      <td>0.459790</td>\n",
       "      <td>0.208844</td>\n",
       "      <td>0.765417</td>\n",
       "      <td>0.043616</td>\n",
       "      <td>0</td>\n",
       "    </tr>\n",
       "    <tr>\n",
       "      <th>4935</th>\n",
       "      <td>1788.441789</td>\n",
       "      <td>14.885941</td>\n",
       "      <td>0.359637</td>\n",
       "      <td>0.197944</td>\n",
       "      <td>0.755400</td>\n",
       "      <td>0.039182</td>\n",
       "      <td>1</td>\n",
       "    </tr>\n",
       "    <tr>\n",
       "      <th>4517</th>\n",
       "      <td>2348.901139</td>\n",
       "      <td>15.302120</td>\n",
       "      <td>0.459790</td>\n",
       "      <td>0.208844</td>\n",
       "      <td>0.765417</td>\n",
       "      <td>0.043616</td>\n",
       "      <td>0</td>\n",
       "    </tr>\n",
       "    <tr>\n",
       "      <th>2667</th>\n",
       "      <td>2316.037229</td>\n",
       "      <td>15.103701</td>\n",
       "      <td>0.488922</td>\n",
       "      <td>0.274354</td>\n",
       "      <td>0.809403</td>\n",
       "      <td>0.075270</td>\n",
       "      <td>1</td>\n",
       "    </tr>\n",
       "    <tr>\n",
       "      <th>7051</th>\n",
       "      <td>2883.731612</td>\n",
       "      <td>17.576556</td>\n",
       "      <td>0.543877</td>\n",
       "      <td>0.324564</td>\n",
       "      <td>0.785889</td>\n",
       "      <td>0.105342</td>\n",
       "      <td>1</td>\n",
       "    </tr>\n",
       "  </tbody>\n",
       "</table>\n",
       "</div>"
      ],
      "text/plain": [
       "          contrast  dissimilarity  homogeneity    energy  correlation  \\\n",
       "10219  2348.901139      15.302120     0.459790  0.208844     0.765417   \n",
       "4935   1788.441789      14.885941     0.359637  0.197944     0.755400   \n",
       "4517   2348.901139      15.302120     0.459790  0.208844     0.765417   \n",
       "2667   2316.037229      15.103701     0.488922  0.274354     0.809403   \n",
       "7051   2883.731612      17.576556     0.543877  0.324564     0.785889   \n",
       "\n",
       "            ASM  status  \n",
       "10219  0.043616       0  \n",
       "4935   0.039182       1  \n",
       "4517   0.043616       0  \n",
       "2667   0.075270       1  \n",
       "7051   0.105342       1  "
      ]
     },
     "execution_count": 155,
     "metadata": {},
     "output_type": "execute_result"
    }
   ],
   "source": [
    "data = pd.concat([dfParasitized, dfUnifected])\n",
    "data = shuffle(data) # ambaralhando os dados\n",
    "data.head()"
   ]
  },
  {
   "cell_type": "code",
   "execution_count": 230,
   "metadata": {},
   "outputs": [],
   "source": [
    "X = data.iloc[:, :-1].values\n",
    "y = data.iloc[:, 6].values"
   ]
  },
  {
   "cell_type": "code",
   "execution_count": 260,
   "metadata": {},
   "outputs": [],
   "source": [
    "X_train, X_test, y_train, y_test = train_test_split(X, y, test_size=0.30)"
   ]
  },
  {
   "cell_type": "code",
   "execution_count": 266,
   "metadata": {},
   "outputs": [],
   "source": [
    "scaler = StandardScaler()\n",
    "scaler.fit(X_train)\n",
    "\n",
    "X_train = scaler.transform(X_train)\n",
    "X_test = scaler.transform(X_test)"
   ]
  },
  {
   "cell_type": "markdown",
   "metadata": {},
   "source": [
    "# Knn"
   ]
  },
  {
   "cell_type": "code",
   "execution_count": 267,
   "metadata": {},
   "outputs": [],
   "source": [
    "from sklearn.neighbors import KNeighborsClassifier"
   ]
  },
  {
   "cell_type": "code",
   "execution_count": 268,
   "metadata": {},
   "outputs": [],
   "source": [
    "knn = KNeighborsClassifier(n_neighbors=15)"
   ]
  },
  {
   "cell_type": "code",
   "execution_count": 269,
   "metadata": {},
   "outputs": [
    {
     "data": {
      "text/plain": [
       "KNeighborsClassifier(algorithm='auto', leaf_size=30, metric='minkowski',\n",
       "                     metric_params=None, n_jobs=None, n_neighbors=15, p=2,\n",
       "                     weights='uniform')"
      ]
     },
     "execution_count": 269,
     "metadata": {},
     "output_type": "execute_result"
    }
   ],
   "source": [
    "knn.fit(X_train, y_train)"
   ]
  },
  {
   "cell_type": "code",
   "execution_count": 270,
   "metadata": {},
   "outputs": [],
   "source": [
    "y_pred = knn.predict(X_test)"
   ]
  },
  {
   "cell_type": "code",
   "execution_count": 271,
   "metadata": {},
   "outputs": [
    {
     "name": "stdout",
     "output_type": "stream",
     "text": [
      "[[4122    0]\n",
      " [   3 4143]]\n",
      "\n",
      "-------------------------- Score ---------------------------\n",
      "\n",
      "\n",
      "              precision    recall  f1-score   support\n",
      "\n",
      "           0       1.00      1.00      1.00      4122\n",
      "           1       1.00      1.00      1.00      4146\n",
      "\n",
      "    accuracy                           1.00      8268\n",
      "   macro avg       1.00      1.00      1.00      8268\n",
      "weighted avg       1.00      1.00      1.00      8268\n",
      "\n"
     ]
    }
   ],
   "source": [
    "print(confusion_matrix(y_test, y_pred), end='\\n\\n')\n",
    "print(' Score '.center(60,'-'), end='\\n\\n\\n')\n",
    "print(classification_report(y_test, y_pred)) "
   ]
  },
  {
   "cell_type": "markdown",
   "metadata": {},
   "source": [
    "# Random Florest"
   ]
  },
  {
   "cell_type": "code",
   "execution_count": 272,
   "metadata": {},
   "outputs": [],
   "source": [
    "from sklearn.ensemble import RandomForestClassifier"
   ]
  },
  {
   "cell_type": "code",
   "execution_count": 273,
   "metadata": {},
   "outputs": [],
   "source": [
    "n_tree = 100"
   ]
  },
  {
   "cell_type": "code",
   "execution_count": 274,
   "metadata": {},
   "outputs": [],
   "source": [
    "rfc = RandomForestClassifier(n_estimators=n_tree)"
   ]
  },
  {
   "cell_type": "code",
   "execution_count": 275,
   "metadata": {},
   "outputs": [
    {
     "data": {
      "text/plain": [
       "RandomForestClassifier(bootstrap=True, class_weight=None, criterion='gini',\n",
       "                       max_depth=None, max_features='auto', max_leaf_nodes=None,\n",
       "                       min_impurity_decrease=0.0, min_impurity_split=None,\n",
       "                       min_samples_leaf=1, min_samples_split=2,\n",
       "                       min_weight_fraction_leaf=0.0, n_estimators=100,\n",
       "                       n_jobs=None, oob_score=False, random_state=None,\n",
       "                       verbose=0, warm_start=False)"
      ]
     },
     "execution_count": 275,
     "metadata": {},
     "output_type": "execute_result"
    }
   ],
   "source": [
    "rfc.fit(X_train, y_train)"
   ]
  },
  {
   "cell_type": "code",
   "execution_count": 276,
   "metadata": {},
   "outputs": [],
   "source": [
    "y_pred = rfc.predict(X_test)"
   ]
  },
  {
   "cell_type": "code",
   "execution_count": 277,
   "metadata": {},
   "outputs": [
    {
     "name": "stdout",
     "output_type": "stream",
     "text": [
      "[[4122    0]\n",
      " [   1 4145]]\n",
      "\n",
      "-------------------------- Score ---------------------------\n",
      "\n",
      "\n",
      "              precision    recall  f1-score   support\n",
      "\n",
      "           0       1.00      1.00      1.00      4122\n",
      "           1       1.00      1.00      1.00      4146\n",
      "\n",
      "    accuracy                           1.00      8268\n",
      "   macro avg       1.00      1.00      1.00      8268\n",
      "weighted avg       1.00      1.00      1.00      8268\n",
      "\n"
     ]
    }
   ],
   "source": [
    "print(confusion_matrix(y_test, y_pred), end='\\n\\n')\n",
    "print(' Score '.center(60,'-'), end='\\n\\n\\n')\n",
    "print(classification_report(y_test, y_pred)) "
   ]
  },
  {
   "cell_type": "code",
   "execution_count": null,
   "metadata": {},
   "outputs": [],
   "source": []
  }
 ],
 "metadata": {
  "kernelspec": {
   "display_name": "Python 3",
   "language": "python",
   "name": "python3"
  },
  "language_info": {
   "codemirror_mode": {
    "name": "ipython",
    "version": 3
   },
   "file_extension": ".py",
   "mimetype": "text/x-python",
   "name": "python",
   "nbconvert_exporter": "python",
   "pygments_lexer": "ipython3",
   "version": "3.6.8"
  }
 },
 "nbformat": 4,
 "nbformat_minor": 2
}
