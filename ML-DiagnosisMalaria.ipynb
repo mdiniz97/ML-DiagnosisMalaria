{
 "cells": [
  {
   "cell_type": "code",
   "execution_count": 103,
   "metadata": {},
   "outputs": [
    {
     "name": "stdout",
     "output_type": "stream",
     "text": [
      "['.DS_Store', 'Parasitized', 'Uninfected']\n"
     ]
    }
   ],
   "source": [
    "import numpy as np\n",
    "import pandas as pd\n",
    "import matplotlib.pyplot as plt\n",
    "import cv2\n",
    "import glob\n",
    "import os\n",
    "\n",
    "from skimage.feature import greycoprops as gprops\n",
    "from skimage.feature import greycomatrix as gmatrix\n",
    "\n",
    "print(os.listdir(\"./dataset/cell_images/\"))"
   ]
  },
  {
   "cell_type": "code",
   "execution_count": 53,
   "metadata": {},
   "outputs": [],
   "source": [
    "path = os.getcwd() + '/dataset/cell_images/'\n",
    "path_images = os.listdir(\"./dataset/cell_images/\")\n",
    "if '.DS_Store' in path_images:\n",
    "    path_images = path_images[1:]\n",
    "path_parasitized = path + path_images[0] + '/'\n",
    "path_uninfected = path + path_images[1] + '/'"
   ]
  },
  {
   "cell_type": "code",
   "execution_count": 121,
   "metadata": {},
   "outputs": [],
   "source": [
    "imagesParasitized = [cv2.imread(file, 0) for file in glob.glob(path_parasitized+\"*.png\")]"
   ]
  },
  {
   "cell_type": "code",
   "execution_count": 122,
   "metadata": {},
   "outputs": [],
   "source": [
    "imagesUninfected  = [cv2.imread(file, 0) for file in glob.glob(path_uninfected+\"*.png\")]"
   ]
  },
  {
   "cell_type": "code",
   "execution_count": 133,
   "metadata": {},
   "outputs": [],
   "source": [
    "dataParasitized = {'contrast' : [], 'dissimilarity' : [], 'homogeneity': [], \\\n",
    "                   'energy' : [], 'correlation' : [], 'ASM' : []}\n",
    "for parasitized in imagesParasitized:\n",
    "    # print(k)\n",
    "    # dataImage = {}\n",
    "    glcm = gmatrix(parasitized, [5], [0], 256, symmetric=True, normed=True)\n",
    "    for feature in ['contrast', 'dissimilarity', 'homogeneity', 'energy', 'correlation', 'ASM']:\n",
    "        dataParasitized[feature].append(gprops(glcm, prop=feature)[0][0])\n",
    "        # o [0][0] para pegar sómente o dado fora da lista, tá retornando array([[2311.26818367]])\n",
    "    # dataParasitized.append(dataImage)"
   ]
  },
  {
   "cell_type": "code",
   "execution_count": 134,
   "metadata": {},
   "outputs": [],
   "source": [
    "#dataUninfected = []\n",
    "dataUninfected = {'contrast' : [], 'dissimilarity' : [], 'homogeneity': [], \\\n",
    "                   'energy' : [], 'correlation' : [], 'ASM' : []}\n",
    "for uninfected in imagesUninfected:\n",
    "    # dataImage = {}\n",
    "    glcm = gmatrix(parasitized, [5], [0], 256, symmetric=True, normed=True)\n",
    "    for feature in ['contrast', 'dissimilarity', 'homogeneity', 'energy', 'correlation', 'ASM']:\n",
    "        #dataImage[feature] = gprops(glcm, prop=feature)\n",
    "        dataUninfected[feature].append(gprops(glcm, prop=feature)[0][0])\n",
    "    # dataUninfected.append(dataImage)"
   ]
  },
  {
   "cell_type": "code",
   "execution_count": 140,
   "metadata": {},
   "outputs": [
    {
     "data": {
      "text/html": [
       "<div>\n",
       "<style scoped>\n",
       "    .dataframe tbody tr th:only-of-type {\n",
       "        vertical-align: middle;\n",
       "    }\n",
       "\n",
       "    .dataframe tbody tr th {\n",
       "        vertical-align: top;\n",
       "    }\n",
       "\n",
       "    .dataframe thead th {\n",
       "        text-align: right;\n",
       "    }\n",
       "</style>\n",
       "<table border=\"1\" class=\"dataframe\">\n",
       "  <thead>\n",
       "    <tr style=\"text-align: right;\">\n",
       "      <th></th>\n",
       "      <th>contrast</th>\n",
       "      <th>dissimilarity</th>\n",
       "      <th>homogeneity</th>\n",
       "      <th>energy</th>\n",
       "      <th>correlation</th>\n",
       "      <th>ASM</th>\n",
       "    </tr>\n",
       "  </thead>\n",
       "  <tbody>\n",
       "    <tr>\n",
       "      <th>0</th>\n",
       "      <td>2311.268184</td>\n",
       "      <td>17.324746</td>\n",
       "      <td>0.399396</td>\n",
       "      <td>0.205280</td>\n",
       "      <td>0.734250</td>\n",
       "      <td>0.042140</td>\n",
       "    </tr>\n",
       "    <tr>\n",
       "      <th>1</th>\n",
       "      <td>2096.609522</td>\n",
       "      <td>15.652454</td>\n",
       "      <td>0.381823</td>\n",
       "      <td>0.216699</td>\n",
       "      <td>0.766454</td>\n",
       "      <td>0.046959</td>\n",
       "    </tr>\n",
       "    <tr>\n",
       "      <th>2</th>\n",
       "      <td>2668.714404</td>\n",
       "      <td>17.056937</td>\n",
       "      <td>0.568375</td>\n",
       "      <td>0.413402</td>\n",
       "      <td>0.815043</td>\n",
       "      <td>0.170901</td>\n",
       "    </tr>\n",
       "    <tr>\n",
       "      <th>3</th>\n",
       "      <td>2018.325148</td>\n",
       "      <td>15.040112</td>\n",
       "      <td>0.419798</td>\n",
       "      <td>0.261523</td>\n",
       "      <td>0.805033</td>\n",
       "      <td>0.068394</td>\n",
       "    </tr>\n",
       "    <tr>\n",
       "      <th>4</th>\n",
       "      <td>2194.942252</td>\n",
       "      <td>17.002131</td>\n",
       "      <td>0.350344</td>\n",
       "      <td>0.180188</td>\n",
       "      <td>0.700745</td>\n",
       "      <td>0.032468</td>\n",
       "    </tr>\n",
       "  </tbody>\n",
       "</table>\n",
       "</div>"
      ],
      "text/plain": [
       "      contrast  dissimilarity  homogeneity    energy  correlation       ASM\n",
       "0  2311.268184      17.324746     0.399396  0.205280     0.734250  0.042140\n",
       "1  2096.609522      15.652454     0.381823  0.216699     0.766454  0.046959\n",
       "2  2668.714404      17.056937     0.568375  0.413402     0.815043  0.170901\n",
       "3  2018.325148      15.040112     0.419798  0.261523     0.805033  0.068394\n",
       "4  2194.942252      17.002131     0.350344  0.180188     0.700745  0.032468"
      ]
     },
     "execution_count": 140,
     "metadata": {},
     "output_type": "execute_result"
    }
   ],
   "source": [
    "dfParasitized = pd.DataFrame(dataParasitized)\n",
    "dfParasitized.head()"
   ]
  },
  {
   "cell_type": "code",
   "execution_count": 141,
   "metadata": {},
   "outputs": [
    {
     "data": {
      "text/html": [
       "<div>\n",
       "<style scoped>\n",
       "    .dataframe tbody tr th:only-of-type {\n",
       "        vertical-align: middle;\n",
       "    }\n",
       "\n",
       "    .dataframe tbody tr th {\n",
       "        vertical-align: top;\n",
       "    }\n",
       "\n",
       "    .dataframe thead th {\n",
       "        text-align: right;\n",
       "    }\n",
       "</style>\n",
       "<table border=\"1\" class=\"dataframe\">\n",
       "  <thead>\n",
       "    <tr style=\"text-align: right;\">\n",
       "      <th></th>\n",
       "      <th>contrast</th>\n",
       "      <th>dissimilarity</th>\n",
       "      <th>homogeneity</th>\n",
       "      <th>energy</th>\n",
       "      <th>correlation</th>\n",
       "      <th>ASM</th>\n",
       "    </tr>\n",
       "  </thead>\n",
       "  <tbody>\n",
       "    <tr>\n",
       "      <th>0</th>\n",
       "      <td>2311.268184</td>\n",
       "      <td>17.324746</td>\n",
       "      <td>0.399396</td>\n",
       "      <td>0.205280</td>\n",
       "      <td>0.734250</td>\n",
       "      <td>0.042140</td>\n",
       "    </tr>\n",
       "    <tr>\n",
       "      <th>1</th>\n",
       "      <td>2096.609522</td>\n",
       "      <td>15.652454</td>\n",
       "      <td>0.381823</td>\n",
       "      <td>0.216699</td>\n",
       "      <td>0.766454</td>\n",
       "      <td>0.046959</td>\n",
       "    </tr>\n",
       "    <tr>\n",
       "      <th>2</th>\n",
       "      <td>2668.714404</td>\n",
       "      <td>17.056937</td>\n",
       "      <td>0.568375</td>\n",
       "      <td>0.413402</td>\n",
       "      <td>0.815043</td>\n",
       "      <td>0.170901</td>\n",
       "    </tr>\n",
       "    <tr>\n",
       "      <th>3</th>\n",
       "      <td>2018.325148</td>\n",
       "      <td>15.040112</td>\n",
       "      <td>0.419798</td>\n",
       "      <td>0.261523</td>\n",
       "      <td>0.805033</td>\n",
       "      <td>0.068394</td>\n",
       "    </tr>\n",
       "    <tr>\n",
       "      <th>4</th>\n",
       "      <td>2194.942252</td>\n",
       "      <td>17.002131</td>\n",
       "      <td>0.350344</td>\n",
       "      <td>0.180188</td>\n",
       "      <td>0.700745</td>\n",
       "      <td>0.032468</td>\n",
       "    </tr>\n",
       "  </tbody>\n",
       "</table>\n",
       "</div>"
      ],
      "text/plain": [
       "      contrast  dissimilarity  homogeneity    energy  correlation       ASM\n",
       "0  2311.268184      17.324746     0.399396  0.205280     0.734250  0.042140\n",
       "1  2096.609522      15.652454     0.381823  0.216699     0.766454  0.046959\n",
       "2  2668.714404      17.056937     0.568375  0.413402     0.815043  0.170901\n",
       "3  2018.325148      15.040112     0.419798  0.261523     0.805033  0.068394\n",
       "4  2194.942252      17.002131     0.350344  0.180188     0.700745  0.032468"
      ]
     },
     "execution_count": 141,
     "metadata": {},
     "output_type": "execute_result"
    }
   ],
   "source": [
    "dfUnifected = pd.DataFrame(dataUninfected)\n",
    "dfParasitized.head()"
   ]
  },
  {
   "cell_type": "code",
   "execution_count": null,
   "metadata": {},
   "outputs": [],
   "source": []
  }
 ],
 "metadata": {
  "kernelspec": {
   "display_name": "Python 3",
   "language": "python",
   "name": "python3"
  },
  "language_info": {
   "codemirror_mode": {
    "name": "ipython",
    "version": 3
   },
   "file_extension": ".py",
   "mimetype": "text/x-python",
   "name": "python",
   "nbconvert_exporter": "python",
   "pygments_lexer": "ipython3",
   "version": "3.6.8"
  }
 },
 "nbformat": 4,
 "nbformat_minor": 2
}
